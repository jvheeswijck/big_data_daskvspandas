{
 "cells": [
  {
   "cell_type": "code",
   "execution_count": 1,
   "metadata": {
    "ExecuteTime": {
     "end_time": "2020-03-31T23:22:48.845609Z",
     "start_time": "2020-03-31T23:22:46.466255Z"
    }
   },
   "outputs": [],
   "source": [
    "import json\n",
    "import datetime as dt\n",
    "import os\n",
    "import numpy as np\n",
    "import random\n",
    "from dask import delayed\n",
    "import seaborn as sns\n",
    "import sys\n",
    "\n",
    "%matplotlib inline"
   ]
  },
  {
   "cell_type": "code",
   "execution_count": 2,
   "metadata": {
    "ExecuteTime": {
     "end_time": "2020-03-31T23:22:48.940554Z",
     "start_time": "2020-03-31T23:22:48.847608Z"
    }
   },
   "outputs": [],
   "source": [
    "# np.random.seed(42)\n",
    "random.seed(a=42)\n",
    "events = \"click media_exit item_search login\".split()\n",
    "users = list(map(lambda x: str(x).rjust(5, '0'), range(20000)))\n",
    "countries = \"US UK Canada Australia Germany\".split()\n",
    "devices = \"OnePlus HTC LG Samsung Apple\".split()\n",
    "\n",
    "user_list = []\n",
    "for u in users:\n",
    "    item = {}\n",
    "    item['user_id'] = u\n",
    "    item['geo'] = random.choice(countries)\n",
    "    item['device'] = random.choice(devices)\n",
    "    user_list.append(item)"
   ]
  },
  {
   "cell_type": "code",
   "execution_count": 3,
   "metadata": {
    "ExecuteTime": {
     "end_time": "2020-03-31T23:22:48.950550Z",
     "start_time": "2020-03-31T23:22:48.942553Z"
    }
   },
   "outputs": [],
   "source": [
    "# @delayed\n",
    "def generate_event():\n",
    "    row = {}\n",
    "    user = random.choice(user_list)\n",
    "    event = random.choice(events)\n",
    "    row.update(user)\n",
    "    row['event_name'] = event\n",
    "    date = dt.datetime(year=2019, month=1, day=1) + dt.timedelta(milliseconds=random.uniform(0,86400))\n",
    "    row['event_timestamp'] = date.isoformat()\n",
    "    row['padding_data_1'] = 'Lorem ipsum dolor sit amet, consectetur adipiscing elit. Sed posuere consectetur turpis, nec porttitor diam viverra in.'\n",
    "    row['padding_data_2'] = 'Lorem ipsum dolor sit amet, consectetur adipiscing elit. Sed posuere consectetur turpis, nec porttitor diam viverra in.'\n",
    "    row['padding_data_3'] = 'Lorem ipsum dolor sit amet, consectetur adipiscing elit. Sed posuere consectetur turpis, nec porttitor diam viverra in.'\n",
    "    new_data = get_param[event]()\n",
    "    row.update(new_data)\n",
    "    return row"
   ]
  },
  {
   "cell_type": "code",
   "execution_count": 4,
   "metadata": {
    "ExecuteTime": {
     "end_time": "2020-03-31T23:22:52.322617Z",
     "start_time": "2020-03-31T23:22:52.311625Z"
    }
   },
   "outputs": [],
   "source": [
    "click_objs = \"fklsasdjflkadsjflk jkhasdfkjads asdjkhfkjadsh asdjkfhjkds hajksdfhkadjsafhkjasd jkasdhfkldsjl\".split()\n",
    "# @delayed\n",
    "def gen_click():\n",
    "    return {'target':random.choice(click_objs)}\n",
    "    \n",
    "file_ids = [str(x).rjust(40, \"0\") + \".mp4\" for x in range(20)]\n",
    "file_types = ['video', 'audio']\n",
    "# @delayed\n",
    "def gen_media():\n",
    "    item = {}\n",
    "    item['fild_id'] = random.choice(file_ids)\n",
    "    item['progress'] = round(random.uniform(0, 1), 2)\n",
    "    item['file_type'] = random.choice(file_types)\n",
    "    return item\n",
    "\n",
    "search_items = \"jhsdafkads hjkasdf jkadshfhk asdjkhfkladsjfhkjsdfhjdksa asdjkhfkajdshfadslfjhds jaksdhfjkads\".split()\n",
    "# @delayed\n",
    "def gen_search():\n",
    "    item = {}\n",
    "    item['search_text'] = random.choice(search_items)\n",
    "    item['result'] = (True if random.uniform(0, 1) > 0.5 else False )\n",
    "    return item\n",
    "\n",
    "# @delayed\n",
    "def login():\n",
    "    return {}\n",
    "    \n",
    "get_param = {'click':gen_click,  \"media_exit\":gen_media,  \"item_search\":gen_search, \"login\":login}"
   ]
  },
  {
   "cell_type": "code",
   "execution_count": 5,
   "metadata": {
    "ExecuteTime": {
     "end_time": "2020-03-31T19:59:47.275989Z",
     "start_time": "2020-03-31T19:59:47.272988Z"
    }
   },
   "outputs": [],
   "source": [
    "# # Normal\n",
    "# event_set = []\n",
    "# for i in range(100_000):\n",
    "#     event_set.append(generate_event())"
   ]
  },
  {
   "cell_type": "code",
   "execution_count": 5,
   "metadata": {
    "ExecuteTime": {
     "end_time": "2020-03-31T23:24:44.734817Z",
     "start_time": "2020-03-31T23:22:54.624282Z"
    }
   },
   "outputs": [],
   "source": [
    "# Normal\n",
    "event_set = []\n",
    "for i in range(6_000_000):\n",
    "    event_set.append(json.dumps(generate_event()))"
   ]
  },
  {
   "cell_type": "code",
   "execution_count": null,
   "metadata": {
    "ExecuteTime": {
     "end_time": "2020-03-31T19:05:39.552225Z",
     "start_time": "2020-03-31T19:05:39.546229Z"
    }
   },
   "outputs": [],
   "source": [
    "len(event_set)"
   ]
  },
  {
   "cell_type": "code",
   "execution_count": null,
   "metadata": {
    "ExecuteTime": {
     "end_time": "2020-03-31T18:35:49.213195Z",
     "start_time": "2020-03-31T18:35:49.209194Z"
    }
   },
   "outputs": [],
   "source": [
    "# event_set = []\n",
    "# for i in range(100_000):\n",
    "#     event_json = delayed(json.dumps)(generate_event())\n",
    "#     event_set.append(event_json)\n",
    "    \n",
    "# event_result = delayed(lambda x: x)(event_set)\n",
    "# event_result.compute()"
   ]
  },
  {
   "cell_type": "code",
   "execution_count": null,
   "metadata": {
    "ExecuteTime": {
     "end_time": "2020-03-31T18:14:54.894179Z",
     "start_time": "2020-03-31T18:14:36.324057Z"
    }
   },
   "outputs": [],
   "source": [
    "%%timeit\n",
    "# Parallel\n",
    "event_set = []\n",
    "for i in range(1000):\n",
    "    event_set.append(generate_event())\n",
    "g_row = delayed(lambda x: x)(event_set)\n",
    "result = g_row.compute()"
   ]
  },
  {
   "cell_type": "code",
   "execution_count": null,
   "metadata": {
    "ExecuteTime": {
     "end_time": "2020-03-31T19:06:29.846792Z",
     "start_time": "2020-03-31T19:06:29.841798Z"
    }
   },
   "outputs": [],
   "source": [
    "sys.getsizeof(event_set)"
   ]
  },
  {
   "cell_type": "code",
   "execution_count": null,
   "metadata": {
    "ExecuteTime": {
     "end_time": "2020-03-31T17:57:19.723742Z",
     "start_time": "2020-03-31T17:56:57.418454Z"
    }
   },
   "outputs": [],
   "source": [
    "target_size = 1073741824\n",
    "with open('test.txt', 'w') as f:\n",
    "    for i in range(10000):\n",
    "        row = generate_event()\n",
    "        f.write(json.dumps(test))\n",
    "os.stat('test.txt').st_size"
   ]
  },
  {
   "cell_type": "code",
   "execution_count": null,
   "metadata": {
    "ExecuteTime": {
     "end_time": "2020-03-31T18:39:18.035349Z",
     "start_time": "2020-03-31T18:38:06.990968Z"
    }
   },
   "outputs": [],
   "source": [
    "# target_size = 1073741824\n",
    "target_size = 50000\n",
    "with open('test.txt', 'w') as f:\n",
    "    for i in event_set:\n",
    "        f.write(i)\n",
    "#         if os.stat('test.txt').st_size > target_size:\n",
    "#             break"
   ]
  },
  {
   "cell_type": "code",
   "execution_count": null,
   "metadata": {
    "ExecuteTime": {
     "end_time": "2020-03-31T18:39:50.601899Z",
     "start_time": "2020-03-31T18:39:50.598920Z"
    }
   },
   "outputs": [],
   "source": [
    "def utf8len(s):\n",
    "    return len(s.encode('utf-8'))"
   ]
  },
  {
   "cell_type": "code",
   "execution_count": null,
   "metadata": {
    "ExecuteTime": {
     "end_time": "2020-03-31T18:48:35.451644Z",
     "start_time": "2020-03-31T18:48:35.442647Z"
    }
   },
   "outputs": [],
   "source": [
    "cum_size = 0\n",
    "rows = 0\n",
    "target_size = 1_000\n",
    "while(cum_size < target_size):\n",
    "    try:\n",
    "        cum_size += utf8len(event_set[1])\n",
    "        rows += 1\n",
    "    except:\n",
    "        break"
   ]
  },
  {
   "cell_type": "code",
   "execution_count": null,
   "metadata": {
    "ExecuteTime": {
     "end_time": "2020-03-31T18:48:36.580998Z",
     "start_time": "2020-03-31T18:48:36.575004Z"
    }
   },
   "outputs": [],
   "source": [
    "rows"
   ]
  },
  {
   "cell_type": "code",
   "execution_count": null,
   "metadata": {
    "ExecuteTime": {
     "end_time": "2020-03-31T18:43:46.135686Z",
     "start_time": "2020-03-31T18:43:46.126691Z"
    }
   },
   "outputs": [],
   "source": [
    "with open('test.txt', 'w') as f:\n",
    "    for i, r in enumerate(event_set[:rows]):\n",
    "        f.write(i)\n",
    "os.stat('test.txt').st_size"
   ]
  },
  {
   "cell_type": "code",
   "execution_count": null,
   "metadata": {
    "ExecuteTime": {
     "end_time": "2020-03-31T19:08:15.746751Z",
     "start_time": "2020-03-31T19:08:12.137741Z"
    }
   },
   "outputs": [],
   "source": [
    "# Test Write File\n",
    "target_size = 1_073_741_824\n",
    "with open('1gb.txt', 'w') as f:\n",
    "    for i, r in enumerate(event_set):\n",
    "        f.write(r)\n",
    "convert_size(os.path.getsize('1gb.txt'))"
   ]
  },
  {
   "cell_type": "code",
   "execution_count": null,
   "metadata": {
    "ExecuteTime": {
     "end_time": "2020-03-31T19:20:08.667422Z",
     "start_time": "2020-03-31T19:08:52.090074Z"
    }
   },
   "outputs": [],
   "source": [
    "# Write file\n",
    "target_size = 1_073_741_824\n",
    "with open('test.txt', 'w') as f:\n",
    "    for i, r in enumerate(event_set):\n",
    "        f.write(r)\n",
    "        if (i % 10_000):\n",
    "            if (os.path.getsize('1gb.txt') > target_size):\n",
    "                break\n",
    "convert_size(os.path.getsize('1gb.txt'))"
   ]
  },
  {
   "cell_type": "code",
   "execution_count": null,
   "metadata": {
    "ExecuteTime": {
     "end_time": "2020-03-31T19:21:36.183910Z",
     "start_time": "2020-03-31T19:21:36.179929Z"
    }
   },
   "outputs": [],
   "source": [
    "i"
   ]
  },
  {
   "cell_type": "code",
   "execution_count": null,
   "metadata": {
    "ExecuteTime": {
     "end_time": "2020-03-31T18:54:32.486227Z",
     "start_time": "2020-03-31T18:54:32.480232Z"
    }
   },
   "outputs": [],
   "source": [
    "len(event_set)"
   ]
  },
  {
   "cell_type": "code",
   "execution_count": 8,
   "metadata": {
    "ExecuteTime": {
     "end_time": "2020-03-31T20:09:18.647311Z",
     "start_time": "2020-03-31T20:09:18.638316Z"
    }
   },
   "outputs": [],
   "source": [
    "import math\n",
    "\n",
    "def convert_size(size_bytes):\n",
    "   if size_bytes == 0:\n",
    "       return \"0B\"\n",
    "   size_name = (\"B\", \"KB\", \"MB\", \"GB\", \"TB\", \"PB\", \"EB\", \"ZB\", \"YB\")\n",
    "   i = int(math.floor(math.log(size_bytes, 1024)))\n",
    "   p = math.pow(1024, i)\n",
    "   s = round(size_bytes / p, 2)\n",
    "   return \"%s %s\" % (s, size_name[i])"
   ]
  },
  {
   "cell_type": "code",
   "execution_count": null,
   "metadata": {
    "ExecuteTime": {
     "end_time": "2020-03-31T18:53:15.207076Z",
     "start_time": "2020-03-31T18:53:15.201080Z"
    }
   },
   "outputs": [],
   "source": [
    "convert_size(5003316)"
   ]
  },
  {
   "cell_type": "code",
   "execution_count": null,
   "metadata": {
    "ExecuteTime": {
     "end_time": "2020-03-31T19:06:41.037476Z",
     "start_time": "2020-03-31T19:06:41.033480Z"
    }
   },
   "outputs": [],
   "source": [
    "convert_size(103184048)"
   ]
  },
  {
   "cell_type": "code",
   "execution_count": null,
   "metadata": {},
   "outputs": [],
   "source": [
    "# random datetime in a day"
   ]
  },
  {
   "cell_type": "code",
   "execution_count": null,
   "metadata": {
    "ExecuteTime": {
     "end_time": "2020-03-31T19:24:49.519455Z",
     "start_time": "2020-03-31T19:24:49.513457Z"
    }
   },
   "outputs": [],
   "source": [
    "sys.getsizeof(event_set)"
   ]
  },
  {
   "cell_type": "code",
   "execution_count": 17,
   "metadata": {
    "ExecuteTime": {
     "end_time": "2020-03-31T19:31:28.316558Z",
     "start_time": "2020-03-31T19:31:24.805540Z"
    }
   },
   "outputs": [
    {
     "name": "stdout",
     "output_type": "stream",
     "text": [
      "4.34 µs ± 277 ns per loop (mean ± std. dev. of 7 runs, 100000 loops each)\n"
     ]
    }
   ],
   "source": [
    "%%timeit\n"
   ]
  },
  {
   "cell_type": "code",
   "execution_count": 15,
   "metadata": {
    "ExecuteTime": {
     "end_time": "2020-03-31T19:30:28.705265Z",
     "start_time": "2020-03-31T19:30:28.701267Z"
    }
   },
   "outputs": [
    {
     "data": {
      "text/plain": [
       "'2019-01-01T00:00:18.967430'"
      ]
     },
     "execution_count": 15,
     "metadata": {},
     "output_type": "execute_result"
    }
   ],
   "source": [
    "date.isoformat()"
   ]
  },
  {
   "cell_type": "code",
   "execution_count": 7,
   "metadata": {
    "ExecuteTime": {
     "end_time": "2020-03-31T20:05:47.684495Z",
     "start_time": "2020-03-31T20:05:33.679465Z"
    }
   },
   "outputs": [
    {
     "ename": "NameError",
     "evalue": "name 'convert_size' is not defined",
     "output_type": "error",
     "traceback": [
      "\u001b[1;31m---------------------------------------------------------------------------\u001b[0m",
      "\u001b[1;31mNameError\u001b[0m                                 Traceback (most recent call last)",
      "\u001b[1;32m<ipython-input-7-acc7086b9c9f>\u001b[0m in \u001b[0;36m<module>\u001b[1;34m\u001b[0m\n\u001b[0;32m      2\u001b[0m     \u001b[0ms\u001b[0m \u001b[1;33m=\u001b[0m \u001b[1;34m'\\n'\u001b[0m\u001b[1;33m.\u001b[0m\u001b[0mjoin\u001b[0m\u001b[1;33m(\u001b[0m\u001b[0mevent_set\u001b[0m\u001b[1;33m[\u001b[0m\u001b[1;33m:\u001b[0m\u001b[1;36m2_000_000\u001b[0m\u001b[1;33m]\u001b[0m\u001b[1;33m)\u001b[0m\u001b[1;33m\u001b[0m\u001b[1;33m\u001b[0m\u001b[0m\n\u001b[0;32m      3\u001b[0m     \u001b[0mf\u001b[0m\u001b[1;33m.\u001b[0m\u001b[0mwrite\u001b[0m\u001b[1;33m(\u001b[0m\u001b[0ms\u001b[0m\u001b[1;33m)\u001b[0m\u001b[1;33m\u001b[0m\u001b[1;33m\u001b[0m\u001b[0m\n\u001b[1;32m----> 4\u001b[1;33m \u001b[0mconvert_size\u001b[0m\u001b[1;33m(\u001b[0m\u001b[0mos\u001b[0m\u001b[1;33m.\u001b[0m\u001b[0mpath\u001b[0m\u001b[1;33m.\u001b[0m\u001b[0mgetsize\u001b[0m\u001b[1;33m(\u001b[0m\u001b[1;34m'1gb.txt'\u001b[0m\u001b[1;33m)\u001b[0m\u001b[1;33m)\u001b[0m\u001b[1;33m\u001b[0m\u001b[1;33m\u001b[0m\u001b[0m\n\u001b[0m",
      "\u001b[1;31mNameError\u001b[0m: name 'convert_size' is not defined"
     ]
    }
   ],
   "source": [
    "with open('1gb.txt', 'w') as f:\n",
    "    s = '\\n'.join(event_set[:2_000_000])\n",
    "    f.write(s)\n",
    "convert_size(os.path.getsize('1gb.txt'))"
   ]
  },
  {
   "cell_type": "code",
   "execution_count": 6,
   "metadata": {
    "ExecuteTime": {
     "end_time": "2020-03-31T23:25:19.865708Z",
     "start_time": "2020-03-31T23:24:44.737787Z"
    }
   },
   "outputs": [
    {
     "ename": "NameError",
     "evalue": "name 'convert_size' is not defined",
     "output_type": "error",
     "traceback": [
      "\u001b[1;31m---------------------------------------------------------------------------\u001b[0m",
      "\u001b[1;31mNameError\u001b[0m                                 Traceback (most recent call last)",
      "\u001b[1;32m<ipython-input-6-03b68b6f7f13>\u001b[0m in \u001b[0;36m<module>\u001b[1;34m\u001b[0m\n\u001b[0;32m      2\u001b[0m     \u001b[0ms\u001b[0m \u001b[1;33m=\u001b[0m \u001b[1;34m'\\n'\u001b[0m\u001b[1;33m.\u001b[0m\u001b[0mjoin\u001b[0m\u001b[1;33m(\u001b[0m\u001b[0mevent_set\u001b[0m\u001b[1;33m[\u001b[0m\u001b[1;33m:\u001b[0m\u001b[1;36m4_000_000\u001b[0m\u001b[1;33m]\u001b[0m\u001b[1;33m)\u001b[0m\u001b[1;33m\u001b[0m\u001b[1;33m\u001b[0m\u001b[0m\n\u001b[0;32m      3\u001b[0m     \u001b[0mf\u001b[0m\u001b[1;33m.\u001b[0m\u001b[0mwrite\u001b[0m\u001b[1;33m(\u001b[0m\u001b[0ms\u001b[0m\u001b[1;33m)\u001b[0m\u001b[1;33m\u001b[0m\u001b[1;33m\u001b[0m\u001b[0m\n\u001b[1;32m----> 4\u001b[1;33m \u001b[0mconvert_size\u001b[0m\u001b[1;33m(\u001b[0m\u001b[0mos\u001b[0m\u001b[1;33m.\u001b[0m\u001b[0mpath\u001b[0m\u001b[1;33m.\u001b[0m\u001b[0mgetsize\u001b[0m\u001b[1;33m(\u001b[0m\u001b[1;34m'2gb.txt'\u001b[0m\u001b[1;33m)\u001b[0m\u001b[1;33m)\u001b[0m\u001b[1;33m\u001b[0m\u001b[1;33m\u001b[0m\u001b[0m\n\u001b[0m",
      "\u001b[1;31mNameError\u001b[0m: name 'convert_size' is not defined"
     ]
    }
   ],
   "source": [
    "with open('2gb-1.txt', 'w') as f:\n",
    "    s = '\\n'.join(event_set[:4_000_000])\n",
    "    f.write(s)\n",
    "convert_size(os.path.getsize('2gb.txt'))"
   ]
  },
  {
   "cell_type": "code",
   "execution_count": 35,
   "metadata": {
    "ExecuteTime": {
     "end_time": "2020-03-31T19:41:41.446971Z",
     "start_time": "2020-03-31T19:40:48.654373Z"
    }
   },
   "outputs": [
    {
     "data": {
      "text/plain": [
       "'3.38 GB'"
      ]
     },
     "execution_count": 35,
     "metadata": {},
     "output_type": "execute_result"
    }
   ],
   "source": [
    "with open('3gb.txt', 'w') as f:\n",
    "    s = '\\n'.join(event_set[:6_000_000])\n",
    "    f.write(s)\n",
    "convert_size(os.path.getsize('3gb.txt'))"
   ]
  },
  {
   "cell_type": "code",
   "execution_count": 9,
   "metadata": {
    "ExecuteTime": {
     "end_time": "2020-03-31T20:09:33.242015Z",
     "start_time": "2020-03-31T20:09:33.236017Z"
    }
   },
   "outputs": [
    {
     "data": {
      "text/plain": [
       "'1.13 GB'"
      ]
     },
     "execution_count": 9,
     "metadata": {},
     "output_type": "execute_result"
    }
   ],
   "source": [
    "convert_size(os.path.getsize('1gb.txt'))"
   ]
  },
  {
   "cell_type": "code",
   "execution_count": 29,
   "metadata": {
    "ExecuteTime": {
     "end_time": "2020-03-31T19:34:14.827457Z",
     "start_time": "2020-03-31T19:34:14.821446Z"
    }
   },
   "outputs": [
    {
     "data": {
      "text/plain": [
       "'576.5 MB'"
      ]
     },
     "execution_count": 29,
     "metadata": {},
     "output_type": "execute_result"
    }
   ],
   "source": [
    "convert_size(os.path.getsize('test.txt'))"
   ]
  },
  {
   "cell_type": "code",
   "execution_count": 34,
   "metadata": {
    "ExecuteTime": {
     "end_time": "2020-03-31T19:40:45.212257Z",
     "start_time": "2020-03-31T19:40:45.205266Z"
    }
   },
   "outputs": [
    {
     "data": {
      "text/plain": [
       "'2.25 GB'"
      ]
     },
     "execution_count": 34,
     "metadata": {},
     "output_type": "execute_result"
    }
   ],
   "source": [
    "convert_size(os.path.getsize('2gb.txt'))"
   ]
  },
  {
   "cell_type": "code",
   "execution_count": null,
   "metadata": {},
   "outputs": [],
   "source": []
  }
 ],
 "metadata": {
  "kernelspec": {
   "display_name": "Python 3",
   "language": "python",
   "name": "python3"
  },
  "language_info": {
   "codemirror_mode": {
    "name": "ipython",
    "version": 3
   },
   "file_extension": ".py",
   "mimetype": "text/x-python",
   "name": "python",
   "nbconvert_exporter": "python",
   "pygments_lexer": "ipython3",
   "version": "3.7.3"
  },
  "toc": {
   "base_numbering": 1,
   "nav_menu": {},
   "number_sections": true,
   "sideBar": true,
   "skip_h1_title": false,
   "title_cell": "Table of Contents",
   "title_sidebar": "Contents",
   "toc_cell": false,
   "toc_position": {},
   "toc_section_display": true,
   "toc_window_display": false
  }
 },
 "nbformat": 4,
 "nbformat_minor": 4
}
